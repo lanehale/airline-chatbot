{
  "nbformat": 4,
  "nbformat_minor": 0,
  "metadata": {
    "colab": {
      "provenance": [],
      "authorship_tag": "ABX9TyPRiBkIp1msrLlkC44saeYT"
    },
    "kernelspec": {
      "name": "python3",
      "display_name": "Python 3"
    },
    "language_info": {
      "name": "python"
    }
  },
  "cells": [
    {
      "cell_type": "code",
      "source": [
        "# Upload flight delay data and template files\n",
        "!ls"
      ],
      "metadata": {
        "colab": {
          "base_uri": "https://localhost:8080/"
        },
        "id": "EMtlkxYcthLW",
        "executionInfo": {
          "status": "ok",
          "timestamp": 1760558753612,
          "user_tz": 360,
          "elapsed": 126,
          "user": {
            "displayName": "Lane Hale",
            "userId": "11862511056076326919"
          }
        },
        "outputId": "04d12d44-f547-4f84-c164-fbd160b635c1"
      },
      "execution_count": 1,
      "outputs": [
        {
          "output_type": "stream",
          "name": "stdout",
          "text": [
            "Airline_Delay_Cause.csv\t\t     query_intent_status_template_3.csv\n",
            "query_intent_booking_template_3.csv  sample_data\n",
            "query_intent_general_template_3.csv\n"
          ]
        }
      ]
    },
    {
      "cell_type": "code",
      "execution_count": 7,
      "metadata": {
        "colab": {
          "base_uri": "https://localhost:8080/",
          "height": 206
        },
        "id": "UOOBvHPJsoVQ",
        "executionInfo": {
          "status": "ok",
          "timestamp": 1760558878434,
          "user_tz": 360,
          "elapsed": 588,
          "user": {
            "displayName": "Lane Hale",
            "userId": "11862511056076326919"
          }
        },
        "outputId": "4c72d030-6e56-48d7-b6f0-6e81a85d006a"
      },
      "outputs": [
        {
          "output_type": "execute_result",
          "data": {
            "text/plain": [
              "    carrier            carrier_name\n",
              "0        9E       Endeavor Air Inc.\n",
              "92       AA  American Airlines Inc.\n",
              "220      AS    Alaska Airlines Inc.\n",
              "308      B6         JetBlue Airways\n",
              "376      DL    Delta Air Lines Inc."
            ],
            "text/html": [
              "\n",
              "  <div id=\"df-59c4006c-28d5-40e7-a13d-c5f4d4ca5409\" class=\"colab-df-container\">\n",
              "    <div>\n",
              "<style scoped>\n",
              "    .dataframe tbody tr th:only-of-type {\n",
              "        vertical-align: middle;\n",
              "    }\n",
              "\n",
              "    .dataframe tbody tr th {\n",
              "        vertical-align: top;\n",
              "    }\n",
              "\n",
              "    .dataframe thead th {\n",
              "        text-align: right;\n",
              "    }\n",
              "</style>\n",
              "<table border=\"1\" class=\"dataframe\">\n",
              "  <thead>\n",
              "    <tr style=\"text-align: right;\">\n",
              "      <th></th>\n",
              "      <th>carrier</th>\n",
              "      <th>carrier_name</th>\n",
              "    </tr>\n",
              "  </thead>\n",
              "  <tbody>\n",
              "    <tr>\n",
              "      <th>0</th>\n",
              "      <td>9E</td>\n",
              "      <td>Endeavor Air Inc.</td>\n",
              "    </tr>\n",
              "    <tr>\n",
              "      <th>92</th>\n",
              "      <td>AA</td>\n",
              "      <td>American Airlines Inc.</td>\n",
              "    </tr>\n",
              "    <tr>\n",
              "      <th>220</th>\n",
              "      <td>AS</td>\n",
              "      <td>Alaska Airlines Inc.</td>\n",
              "    </tr>\n",
              "    <tr>\n",
              "      <th>308</th>\n",
              "      <td>B6</td>\n",
              "      <td>JetBlue Airways</td>\n",
              "    </tr>\n",
              "    <tr>\n",
              "      <th>376</th>\n",
              "      <td>DL</td>\n",
              "      <td>Delta Air Lines Inc.</td>\n",
              "    </tr>\n",
              "  </tbody>\n",
              "</table>\n",
              "</div>\n",
              "    <div class=\"colab-df-buttons\">\n",
              "\n",
              "  <div class=\"colab-df-container\">\n",
              "    <button class=\"colab-df-convert\" onclick=\"convertToInteractive('df-59c4006c-28d5-40e7-a13d-c5f4d4ca5409')\"\n",
              "            title=\"Convert this dataframe to an interactive table.\"\n",
              "            style=\"display:none;\">\n",
              "\n",
              "  <svg xmlns=\"http://www.w3.org/2000/svg\" height=\"24px\" viewBox=\"0 -960 960 960\">\n",
              "    <path d=\"M120-120v-720h720v720H120Zm60-500h600v-160H180v160Zm220 220h160v-160H400v160Zm0 220h160v-160H400v160ZM180-400h160v-160H180v160Zm440 0h160v-160H620v160ZM180-180h160v-160H180v160Zm440 0h160v-160H620v160Z\"/>\n",
              "  </svg>\n",
              "    </button>\n",
              "\n",
              "  <style>\n",
              "    .colab-df-container {\n",
              "      display:flex;\n",
              "      gap: 12px;\n",
              "    }\n",
              "\n",
              "    .colab-df-convert {\n",
              "      background-color: #E8F0FE;\n",
              "      border: none;\n",
              "      border-radius: 50%;\n",
              "      cursor: pointer;\n",
              "      display: none;\n",
              "      fill: #1967D2;\n",
              "      height: 32px;\n",
              "      padding: 0 0 0 0;\n",
              "      width: 32px;\n",
              "    }\n",
              "\n",
              "    .colab-df-convert:hover {\n",
              "      background-color: #E2EBFA;\n",
              "      box-shadow: 0px 1px 2px rgba(60, 64, 67, 0.3), 0px 1px 3px 1px rgba(60, 64, 67, 0.15);\n",
              "      fill: #174EA6;\n",
              "    }\n",
              "\n",
              "    .colab-df-buttons div {\n",
              "      margin-bottom: 4px;\n",
              "    }\n",
              "\n",
              "    [theme=dark] .colab-df-convert {\n",
              "      background-color: #3B4455;\n",
              "      fill: #D2E3FC;\n",
              "    }\n",
              "\n",
              "    [theme=dark] .colab-df-convert:hover {\n",
              "      background-color: #434B5C;\n",
              "      box-shadow: 0px 1px 3px 1px rgba(0, 0, 0, 0.15);\n",
              "      filter: drop-shadow(0px 1px 2px rgba(0, 0, 0, 0.3));\n",
              "      fill: #FFFFFF;\n",
              "    }\n",
              "  </style>\n",
              "\n",
              "    <script>\n",
              "      const buttonEl =\n",
              "        document.querySelector('#df-59c4006c-28d5-40e7-a13d-c5f4d4ca5409 button.colab-df-convert');\n",
              "      buttonEl.style.display =\n",
              "        google.colab.kernel.accessAllowed ? 'block' : 'none';\n",
              "\n",
              "      async function convertToInteractive(key) {\n",
              "        const element = document.querySelector('#df-59c4006c-28d5-40e7-a13d-c5f4d4ca5409');\n",
              "        const dataTable =\n",
              "          await google.colab.kernel.invokeFunction('convertToInteractive',\n",
              "                                                    [key], {});\n",
              "        if (!dataTable) return;\n",
              "\n",
              "        const docLinkHtml = 'Like what you see? Visit the ' +\n",
              "          '<a target=\"_blank\" href=https://colab.research.google.com/notebooks/data_table.ipynb>data table notebook</a>'\n",
              "          + ' to learn more about interactive tables.';\n",
              "        element.innerHTML = '';\n",
              "        dataTable['output_type'] = 'display_data';\n",
              "        await google.colab.output.renderOutput(dataTable, element);\n",
              "        const docLink = document.createElement('div');\n",
              "        docLink.innerHTML = docLinkHtml;\n",
              "        element.appendChild(docLink);\n",
              "      }\n",
              "    </script>\n",
              "  </div>\n",
              "\n",
              "\n",
              "    <div id=\"df-cb430c2f-aecc-491b-88a5-5c09a379077b\">\n",
              "      <button class=\"colab-df-quickchart\" onclick=\"quickchart('df-cb430c2f-aecc-491b-88a5-5c09a379077b')\"\n",
              "                title=\"Suggest charts\"\n",
              "                style=\"display:none;\">\n",
              "\n",
              "<svg xmlns=\"http://www.w3.org/2000/svg\" height=\"24px\"viewBox=\"0 0 24 24\"\n",
              "     width=\"24px\">\n",
              "    <g>\n",
              "        <path d=\"M19 3H5c-1.1 0-2 .9-2 2v14c0 1.1.9 2 2 2h14c1.1 0 2-.9 2-2V5c0-1.1-.9-2-2-2zM9 17H7v-7h2v7zm4 0h-2V7h2v10zm4 0h-2v-4h2v4z\"/>\n",
              "    </g>\n",
              "</svg>\n",
              "      </button>\n",
              "\n",
              "<style>\n",
              "  .colab-df-quickchart {\n",
              "      --bg-color: #E8F0FE;\n",
              "      --fill-color: #1967D2;\n",
              "      --hover-bg-color: #E2EBFA;\n",
              "      --hover-fill-color: #174EA6;\n",
              "      --disabled-fill-color: #AAA;\n",
              "      --disabled-bg-color: #DDD;\n",
              "  }\n",
              "\n",
              "  [theme=dark] .colab-df-quickchart {\n",
              "      --bg-color: #3B4455;\n",
              "      --fill-color: #D2E3FC;\n",
              "      --hover-bg-color: #434B5C;\n",
              "      --hover-fill-color: #FFFFFF;\n",
              "      --disabled-bg-color: #3B4455;\n",
              "      --disabled-fill-color: #666;\n",
              "  }\n",
              "\n",
              "  .colab-df-quickchart {\n",
              "    background-color: var(--bg-color);\n",
              "    border: none;\n",
              "    border-radius: 50%;\n",
              "    cursor: pointer;\n",
              "    display: none;\n",
              "    fill: var(--fill-color);\n",
              "    height: 32px;\n",
              "    padding: 0;\n",
              "    width: 32px;\n",
              "  }\n",
              "\n",
              "  .colab-df-quickchart:hover {\n",
              "    background-color: var(--hover-bg-color);\n",
              "    box-shadow: 0 1px 2px rgba(60, 64, 67, 0.3), 0 1px 3px 1px rgba(60, 64, 67, 0.15);\n",
              "    fill: var(--button-hover-fill-color);\n",
              "  }\n",
              "\n",
              "  .colab-df-quickchart-complete:disabled,\n",
              "  .colab-df-quickchart-complete:disabled:hover {\n",
              "    background-color: var(--disabled-bg-color);\n",
              "    fill: var(--disabled-fill-color);\n",
              "    box-shadow: none;\n",
              "  }\n",
              "\n",
              "  .colab-df-spinner {\n",
              "    border: 2px solid var(--fill-color);\n",
              "    border-color: transparent;\n",
              "    border-bottom-color: var(--fill-color);\n",
              "    animation:\n",
              "      spin 1s steps(1) infinite;\n",
              "  }\n",
              "\n",
              "  @keyframes spin {\n",
              "    0% {\n",
              "      border-color: transparent;\n",
              "      border-bottom-color: var(--fill-color);\n",
              "      border-left-color: var(--fill-color);\n",
              "    }\n",
              "    20% {\n",
              "      border-color: transparent;\n",
              "      border-left-color: var(--fill-color);\n",
              "      border-top-color: var(--fill-color);\n",
              "    }\n",
              "    30% {\n",
              "      border-color: transparent;\n",
              "      border-left-color: var(--fill-color);\n",
              "      border-top-color: var(--fill-color);\n",
              "      border-right-color: var(--fill-color);\n",
              "    }\n",
              "    40% {\n",
              "      border-color: transparent;\n",
              "      border-right-color: var(--fill-color);\n",
              "      border-top-color: var(--fill-color);\n",
              "    }\n",
              "    60% {\n",
              "      border-color: transparent;\n",
              "      border-right-color: var(--fill-color);\n",
              "    }\n",
              "    80% {\n",
              "      border-color: transparent;\n",
              "      border-right-color: var(--fill-color);\n",
              "      border-bottom-color: var(--fill-color);\n",
              "    }\n",
              "    90% {\n",
              "      border-color: transparent;\n",
              "      border-bottom-color: var(--fill-color);\n",
              "    }\n",
              "  }\n",
              "</style>\n",
              "\n",
              "      <script>\n",
              "        async function quickchart(key) {\n",
              "          const quickchartButtonEl =\n",
              "            document.querySelector('#' + key + ' button');\n",
              "          quickchartButtonEl.disabled = true;  // To prevent multiple clicks.\n",
              "          quickchartButtonEl.classList.add('colab-df-spinner');\n",
              "          try {\n",
              "            const charts = await google.colab.kernel.invokeFunction(\n",
              "                'suggestCharts', [key], {});\n",
              "          } catch (error) {\n",
              "            console.error('Error during call to suggestCharts:', error);\n",
              "          }\n",
              "          quickchartButtonEl.classList.remove('colab-df-spinner');\n",
              "          quickchartButtonEl.classList.add('colab-df-quickchart-complete');\n",
              "        }\n",
              "        (() => {\n",
              "          let quickchartButtonEl =\n",
              "            document.querySelector('#df-cb430c2f-aecc-491b-88a5-5c09a379077b button');\n",
              "          quickchartButtonEl.style.display =\n",
              "            google.colab.kernel.accessAllowed ? 'block' : 'none';\n",
              "        })();\n",
              "      </script>\n",
              "    </div>\n",
              "\n",
              "    </div>\n",
              "  </div>\n"
            ],
            "application/vnd.google.colaboratory.intrinsic+json": {
              "type": "dataframe",
              "variable_name": "unique_airlines",
              "summary": "{\n  \"name\": \"unique_airlines\",\n  \"rows\": 23,\n  \"fields\": [\n    {\n      \"column\": \"carrier\",\n      \"properties\": {\n        \"dtype\": \"string\",\n        \"num_unique_values\": 21,\n        \"samples\": [\n          \"9E\",\n          \"EV\",\n          \"QX\"\n        ],\n        \"semantic_type\": \"\",\n        \"description\": \"\"\n      }\n    },\n    {\n      \"column\": \"carrier_name\",\n      \"properties\": {\n        \"dtype\": \"string\",\n        \"num_unique_values\": 23,\n        \"samples\": [\n          \"Horizon Air\",\n          \"Spirit Air Lines\",\n          \"Endeavor Air Inc.\"\n        ],\n        \"semantic_type\": \"\",\n        \"description\": \"\"\n      }\n    }\n  ]\n}"
            }
          },
          "metadata": {},
          "execution_count": 7
        }
      ],
      "source": [
        "# Create a dictionary of unique carrier codes and names\n",
        "import pandas as pd\n",
        "\n",
        "# Read the CSV file into a DataFrame\n",
        "df = pd.read_csv('Airline_Delay_Cause.csv')\n",
        "\n",
        "# Create a DF of unique carriers only\n",
        "unique_airlines = df[['carrier', 'carrier_name']].drop_duplicates()\n",
        "\n",
        "# Create a dictionary of unique carriers\n",
        "airline_dict = dict(zip(unique_airlines['carrier'], unique_airlines['carrier_name']))\n",
        "\n",
        "# Display the unique carriers DF\n",
        "unique_airlines.head()"
      ]
    },
    {
      "cell_type": "code",
      "source": [
        "# Display the shape of the unique carriers DF\n",
        "unique_airlines.shape, len(airline_dict)"
      ],
      "metadata": {
        "colab": {
          "base_uri": "https://localhost:8080/"
        },
        "id": "F6wLJSz7DTF1",
        "executionInfo": {
          "status": "ok",
          "timestamp": 1760558893256,
          "user_tz": 360,
          "elapsed": 28,
          "user": {
            "displayName": "Lane Hale",
            "userId": "11862511056076326919"
          }
        },
        "outputId": "7fdf0bf1-5081-43f2-c07c-e5b58fefb19f"
      },
      "execution_count": 9,
      "outputs": [
        {
          "output_type": "execute_result",
          "data": {
            "text/plain": [
              "((23, 2), 21)"
            ]
          },
          "metadata": {},
          "execution_count": 9
        }
      ]
    },
    {
      "cell_type": "code",
      "source": [
        "# Take out 'Inc.', 'Co.' and 'Corp'\n",
        "for key, value in airline_dict.items():\n",
        "    idx = value.find(\"Inc\")\n",
        "    if idx != -1:\n",
        "        airline_dict[key] = value[: idx - 1]\n",
        "    else:\n",
        "        idx = value.find(\"Co\")\n",
        "        if idx != -1:\n",
        "            airline_dict[key] = value[: idx - 1]\n",
        "\n",
        "# Split airline names\n",
        "for key, value in airline_dict.items():\n",
        "    airline_dict[key] = value.split()\n",
        "\n",
        "# Make 'American Eagle' one string\n",
        "one_str = airline_dict[\"MQ\"][0] + \" \" + airline_dict[\"MQ\"][1]\n",
        "airline_dict[\"MQ\"][0] = one_str\n",
        "del airline_dict[\"MQ\"][1]\n",
        "\n",
        "# Make 'Air Lines' one string to match csv data and maybe help training\n",
        "one_str = airline_dict[\"DL\"][1] + \" \" + airline_dict[\"DL\"][2]\n",
        "airline_dict[\"DL\"][1] = one_str\n",
        "del airline_dict[\"DL\"][2]\n",
        "\n",
        "one_str = airline_dict[\"UA\"][1] + \" \" + airline_dict[\"UA\"][2]\n",
        "airline_dict[\"UA\"][1] = one_str\n",
        "del airline_dict[\"UA\"][2]\n",
        "\n",
        "one_str = airline_dict[\"NK\"][1] + \" \" + airline_dict[\"NK\"][2]\n",
        "airline_dict[\"NK\"][1] = one_str\n",
        "del airline_dict[\"NK\"][2]\n",
        "\n",
        "airline_dict, len(airline_dict)"
      ],
      "metadata": {
        "colab": {
          "base_uri": "https://localhost:8080/"
        },
        "id": "gf0s1sPMGf47",
        "executionInfo": {
          "status": "ok",
          "timestamp": 1760558905040,
          "user_tz": 360,
          "elapsed": 18,
          "user": {
            "displayName": "Lane Hale",
            "userId": "11862511056076326919"
          }
        },
        "outputId": "4b921678-80b2-41fe-ea8c-8415a5ad7d7d"
      },
      "execution_count": 10,
      "outputs": [
        {
          "output_type": "execute_result",
          "data": {
            "text/plain": [
              "({'9E': ['Endeavor', 'Air'],\n",
              "  'AA': ['American', 'Airlines'],\n",
              "  'AS': ['Alaska', 'Airlines'],\n",
              "  'B6': ['JetBlue', 'Airways'],\n",
              "  'DL': ['Delta', 'Air Lines'],\n",
              "  'F9': ['Frontier', 'Airlines'],\n",
              "  'G4': ['Allegiant', 'Air'],\n",
              "  'HA': ['Hawaiian', 'Airlines'],\n",
              "  'MQ': ['American Eagle', 'Airlines'],\n",
              "  'NK': ['Spirit', 'Air Lines'],\n",
              "  'OH': ['PSA', 'Airlines'],\n",
              "  'OO': ['SkyWest', 'Airlines'],\n",
              "  'UA': ['United', 'Air Lines'],\n",
              "  'WN': ['Southwest', 'Airlines'],\n",
              "  'YX': ['Republic', 'Airline'],\n",
              "  'QX': ['Horizon', 'Air'],\n",
              "  'YV': ['Mesa', 'Airlines'],\n",
              "  'EV': ['ExpressJet', 'Airlines'],\n",
              "  'VX': ['Virgin', 'America'],\n",
              "  'US': ['US', 'Airways'],\n",
              "  'FL': ['AirTran', 'Airways']},\n",
              " 21)"
            ]
          },
          "metadata": {},
          "execution_count": 10
        }
      ]
    },
    {
      "cell_type": "code",
      "source": [
        "# Create a list of carrier codes\n",
        "carrier_codes = list(airline_dict.keys())\n",
        "carrier_codes, len(carrier_codes)"
      ],
      "metadata": {
        "colab": {
          "base_uri": "https://localhost:8080/"
        },
        "id": "9kCeI9nPPDBy",
        "executionInfo": {
          "status": "ok",
          "timestamp": 1760558921207,
          "user_tz": 360,
          "elapsed": 37,
          "user": {
            "displayName": "Lane Hale",
            "userId": "11862511056076326919"
          }
        },
        "outputId": "21cdca57-f2e2-4e73-b029-7fa6843f087b"
      },
      "execution_count": 11,
      "outputs": [
        {
          "output_type": "execute_result",
          "data": {
            "text/plain": [
              "(['9E',\n",
              "  'AA',\n",
              "  'AS',\n",
              "  'B6',\n",
              "  'DL',\n",
              "  'F9',\n",
              "  'G4',\n",
              "  'HA',\n",
              "  'MQ',\n",
              "  'NK',\n",
              "  'OH',\n",
              "  'OO',\n",
              "  'UA',\n",
              "  'WN',\n",
              "  'YX',\n",
              "  'QX',\n",
              "  'YV',\n",
              "  'EV',\n",
              "  'VX',\n",
              "  'US',\n",
              "  'FL'],\n",
              " 21)"
            ]
          },
          "metadata": {},
          "execution_count": 11
        }
      ]
    },
    {
      "cell_type": "code",
      "source": [
        "# Create a DF of unique airports only\n",
        "unique_airports = df[['airport', 'airport_name']].drop_duplicates()\n",
        "\n",
        "# Create a dictionary of unique airports\n",
        "airport_dict = dict(zip(unique_airports['airport'], unique_airports['airport_name']))\n",
        "\n",
        "# Display the unique airports DF\n",
        "unique_airports"
      ],
      "metadata": {
        "colab": {
          "base_uri": "https://localhost:8080/",
          "height": 424
        },
        "id": "bsKQi8z0qGzN",
        "executionInfo": {
          "status": "ok",
          "timestamp": 1760558926544,
          "user_tz": 360,
          "elapsed": 65,
          "user": {
            "displayName": "Lane Hale",
            "userId": "11862511056076326919"
          }
        },
        "outputId": "81355fc0-115c-4135-add7-090add496bc7"
      },
      "execution_count": 12,
      "outputs": [
        {
          "output_type": "execute_result",
          "data": {
            "text/plain": [
              "       airport                                       airport_name\n",
              "0          ABE  Allentown/Bethlehem/Easton, PA: Lehigh Valley ...\n",
              "1          ABY             Albany, GA: Southwest Georgia Regional\n",
              "2          AEX           Alexandria, LA: Alexandria International\n",
              "3          AGS        Augusta, GA: Augusta Regional at Bush Field\n",
              "4          ALB                   Albany, NY: Albany International\n",
              "...        ...                                                ...\n",
              "151732     CIC                         Chico, CA: Chico Municipal\n",
              "154943     FOE                        Topeka, KS: Topeka Regional\n",
              "158861     LMT    Klamath Falls, OR: Crater Lake Klamath Regional\n",
              "158864     MOD  Modesto, CA: Modesto City-County-Harry Sham Field\n",
              "167202     IYK                     Inyokern, CA: Inyokern Airport\n",
              "\n",
              "[419 rows x 2 columns]"
            ],
            "text/html": [
              "\n",
              "  <div id=\"df-69c3b8a6-651f-4af5-b8d4-71ff92f1d62c\" class=\"colab-df-container\">\n",
              "    <div>\n",
              "<style scoped>\n",
              "    .dataframe tbody tr th:only-of-type {\n",
              "        vertical-align: middle;\n",
              "    }\n",
              "\n",
              "    .dataframe tbody tr th {\n",
              "        vertical-align: top;\n",
              "    }\n",
              "\n",
              "    .dataframe thead th {\n",
              "        text-align: right;\n",
              "    }\n",
              "</style>\n",
              "<table border=\"1\" class=\"dataframe\">\n",
              "  <thead>\n",
              "    <tr style=\"text-align: right;\">\n",
              "      <th></th>\n",
              "      <th>airport</th>\n",
              "      <th>airport_name</th>\n",
              "    </tr>\n",
              "  </thead>\n",
              "  <tbody>\n",
              "    <tr>\n",
              "      <th>0</th>\n",
              "      <td>ABE</td>\n",
              "      <td>Allentown/Bethlehem/Easton, PA: Lehigh Valley ...</td>\n",
              "    </tr>\n",
              "    <tr>\n",
              "      <th>1</th>\n",
              "      <td>ABY</td>\n",
              "      <td>Albany, GA: Southwest Georgia Regional</td>\n",
              "    </tr>\n",
              "    <tr>\n",
              "      <th>2</th>\n",
              "      <td>AEX</td>\n",
              "      <td>Alexandria, LA: Alexandria International</td>\n",
              "    </tr>\n",
              "    <tr>\n",
              "      <th>3</th>\n",
              "      <td>AGS</td>\n",
              "      <td>Augusta, GA: Augusta Regional at Bush Field</td>\n",
              "    </tr>\n",
              "    <tr>\n",
              "      <th>4</th>\n",
              "      <td>ALB</td>\n",
              "      <td>Albany, NY: Albany International</td>\n",
              "    </tr>\n",
              "    <tr>\n",
              "      <th>...</th>\n",
              "      <td>...</td>\n",
              "      <td>...</td>\n",
              "    </tr>\n",
              "    <tr>\n",
              "      <th>151732</th>\n",
              "      <td>CIC</td>\n",
              "      <td>Chico, CA: Chico Municipal</td>\n",
              "    </tr>\n",
              "    <tr>\n",
              "      <th>154943</th>\n",
              "      <td>FOE</td>\n",
              "      <td>Topeka, KS: Topeka Regional</td>\n",
              "    </tr>\n",
              "    <tr>\n",
              "      <th>158861</th>\n",
              "      <td>LMT</td>\n",
              "      <td>Klamath Falls, OR: Crater Lake Klamath Regional</td>\n",
              "    </tr>\n",
              "    <tr>\n",
              "      <th>158864</th>\n",
              "      <td>MOD</td>\n",
              "      <td>Modesto, CA: Modesto City-County-Harry Sham Field</td>\n",
              "    </tr>\n",
              "    <tr>\n",
              "      <th>167202</th>\n",
              "      <td>IYK</td>\n",
              "      <td>Inyokern, CA: Inyokern Airport</td>\n",
              "    </tr>\n",
              "  </tbody>\n",
              "</table>\n",
              "<p>419 rows × 2 columns</p>\n",
              "</div>\n",
              "    <div class=\"colab-df-buttons\">\n",
              "\n",
              "  <div class=\"colab-df-container\">\n",
              "    <button class=\"colab-df-convert\" onclick=\"convertToInteractive('df-69c3b8a6-651f-4af5-b8d4-71ff92f1d62c')\"\n",
              "            title=\"Convert this dataframe to an interactive table.\"\n",
              "            style=\"display:none;\">\n",
              "\n",
              "  <svg xmlns=\"http://www.w3.org/2000/svg\" height=\"24px\" viewBox=\"0 -960 960 960\">\n",
              "    <path d=\"M120-120v-720h720v720H120Zm60-500h600v-160H180v160Zm220 220h160v-160H400v160Zm0 220h160v-160H400v160ZM180-400h160v-160H180v160Zm440 0h160v-160H620v160ZM180-180h160v-160H180v160Zm440 0h160v-160H620v160Z\"/>\n",
              "  </svg>\n",
              "    </button>\n",
              "\n",
              "  <style>\n",
              "    .colab-df-container {\n",
              "      display:flex;\n",
              "      gap: 12px;\n",
              "    }\n",
              "\n",
              "    .colab-df-convert {\n",
              "      background-color: #E8F0FE;\n",
              "      border: none;\n",
              "      border-radius: 50%;\n",
              "      cursor: pointer;\n",
              "      display: none;\n",
              "      fill: #1967D2;\n",
              "      height: 32px;\n",
              "      padding: 0 0 0 0;\n",
              "      width: 32px;\n",
              "    }\n",
              "\n",
              "    .colab-df-convert:hover {\n",
              "      background-color: #E2EBFA;\n",
              "      box-shadow: 0px 1px 2px rgba(60, 64, 67, 0.3), 0px 1px 3px 1px rgba(60, 64, 67, 0.15);\n",
              "      fill: #174EA6;\n",
              "    }\n",
              "\n",
              "    .colab-df-buttons div {\n",
              "      margin-bottom: 4px;\n",
              "    }\n",
              "\n",
              "    [theme=dark] .colab-df-convert {\n",
              "      background-color: #3B4455;\n",
              "      fill: #D2E3FC;\n",
              "    }\n",
              "\n",
              "    [theme=dark] .colab-df-convert:hover {\n",
              "      background-color: #434B5C;\n",
              "      box-shadow: 0px 1px 3px 1px rgba(0, 0, 0, 0.15);\n",
              "      filter: drop-shadow(0px 1px 2px rgba(0, 0, 0, 0.3));\n",
              "      fill: #FFFFFF;\n",
              "    }\n",
              "  </style>\n",
              "\n",
              "    <script>\n",
              "      const buttonEl =\n",
              "        document.querySelector('#df-69c3b8a6-651f-4af5-b8d4-71ff92f1d62c button.colab-df-convert');\n",
              "      buttonEl.style.display =\n",
              "        google.colab.kernel.accessAllowed ? 'block' : 'none';\n",
              "\n",
              "      async function convertToInteractive(key) {\n",
              "        const element = document.querySelector('#df-69c3b8a6-651f-4af5-b8d4-71ff92f1d62c');\n",
              "        const dataTable =\n",
              "          await google.colab.kernel.invokeFunction('convertToInteractive',\n",
              "                                                    [key], {});\n",
              "        if (!dataTable) return;\n",
              "\n",
              "        const docLinkHtml = 'Like what you see? Visit the ' +\n",
              "          '<a target=\"_blank\" href=https://colab.research.google.com/notebooks/data_table.ipynb>data table notebook</a>'\n",
              "          + ' to learn more about interactive tables.';\n",
              "        element.innerHTML = '';\n",
              "        dataTable['output_type'] = 'display_data';\n",
              "        await google.colab.output.renderOutput(dataTable, element);\n",
              "        const docLink = document.createElement('div');\n",
              "        docLink.innerHTML = docLinkHtml;\n",
              "        element.appendChild(docLink);\n",
              "      }\n",
              "    </script>\n",
              "  </div>\n",
              "\n",
              "\n",
              "    <div id=\"df-4dc4db0e-e837-42c5-91a8-4a6a5664d72d\">\n",
              "      <button class=\"colab-df-quickchart\" onclick=\"quickchart('df-4dc4db0e-e837-42c5-91a8-4a6a5664d72d')\"\n",
              "                title=\"Suggest charts\"\n",
              "                style=\"display:none;\">\n",
              "\n",
              "<svg xmlns=\"http://www.w3.org/2000/svg\" height=\"24px\"viewBox=\"0 0 24 24\"\n",
              "     width=\"24px\">\n",
              "    <g>\n",
              "        <path d=\"M19 3H5c-1.1 0-2 .9-2 2v14c0 1.1.9 2 2 2h14c1.1 0 2-.9 2-2V5c0-1.1-.9-2-2-2zM9 17H7v-7h2v7zm4 0h-2V7h2v10zm4 0h-2v-4h2v4z\"/>\n",
              "    </g>\n",
              "</svg>\n",
              "      </button>\n",
              "\n",
              "<style>\n",
              "  .colab-df-quickchart {\n",
              "      --bg-color: #E8F0FE;\n",
              "      --fill-color: #1967D2;\n",
              "      --hover-bg-color: #E2EBFA;\n",
              "      --hover-fill-color: #174EA6;\n",
              "      --disabled-fill-color: #AAA;\n",
              "      --disabled-bg-color: #DDD;\n",
              "  }\n",
              "\n",
              "  [theme=dark] .colab-df-quickchart {\n",
              "      --bg-color: #3B4455;\n",
              "      --fill-color: #D2E3FC;\n",
              "      --hover-bg-color: #434B5C;\n",
              "      --hover-fill-color: #FFFFFF;\n",
              "      --disabled-bg-color: #3B4455;\n",
              "      --disabled-fill-color: #666;\n",
              "  }\n",
              "\n",
              "  .colab-df-quickchart {\n",
              "    background-color: var(--bg-color);\n",
              "    border: none;\n",
              "    border-radius: 50%;\n",
              "    cursor: pointer;\n",
              "    display: none;\n",
              "    fill: var(--fill-color);\n",
              "    height: 32px;\n",
              "    padding: 0;\n",
              "    width: 32px;\n",
              "  }\n",
              "\n",
              "  .colab-df-quickchart:hover {\n",
              "    background-color: var(--hover-bg-color);\n",
              "    box-shadow: 0 1px 2px rgba(60, 64, 67, 0.3), 0 1px 3px 1px rgba(60, 64, 67, 0.15);\n",
              "    fill: var(--button-hover-fill-color);\n",
              "  }\n",
              "\n",
              "  .colab-df-quickchart-complete:disabled,\n",
              "  .colab-df-quickchart-complete:disabled:hover {\n",
              "    background-color: var(--disabled-bg-color);\n",
              "    fill: var(--disabled-fill-color);\n",
              "    box-shadow: none;\n",
              "  }\n",
              "\n",
              "  .colab-df-spinner {\n",
              "    border: 2px solid var(--fill-color);\n",
              "    border-color: transparent;\n",
              "    border-bottom-color: var(--fill-color);\n",
              "    animation:\n",
              "      spin 1s steps(1) infinite;\n",
              "  }\n",
              "\n",
              "  @keyframes spin {\n",
              "    0% {\n",
              "      border-color: transparent;\n",
              "      border-bottom-color: var(--fill-color);\n",
              "      border-left-color: var(--fill-color);\n",
              "    }\n",
              "    20% {\n",
              "      border-color: transparent;\n",
              "      border-left-color: var(--fill-color);\n",
              "      border-top-color: var(--fill-color);\n",
              "    }\n",
              "    30% {\n",
              "      border-color: transparent;\n",
              "      border-left-color: var(--fill-color);\n",
              "      border-top-color: var(--fill-color);\n",
              "      border-right-color: var(--fill-color);\n",
              "    }\n",
              "    40% {\n",
              "      border-color: transparent;\n",
              "      border-right-color: var(--fill-color);\n",
              "      border-top-color: var(--fill-color);\n",
              "    }\n",
              "    60% {\n",
              "      border-color: transparent;\n",
              "      border-right-color: var(--fill-color);\n",
              "    }\n",
              "    80% {\n",
              "      border-color: transparent;\n",
              "      border-right-color: var(--fill-color);\n",
              "      border-bottom-color: var(--fill-color);\n",
              "    }\n",
              "    90% {\n",
              "      border-color: transparent;\n",
              "      border-bottom-color: var(--fill-color);\n",
              "    }\n",
              "  }\n",
              "</style>\n",
              "\n",
              "      <script>\n",
              "        async function quickchart(key) {\n",
              "          const quickchartButtonEl =\n",
              "            document.querySelector('#' + key + ' button');\n",
              "          quickchartButtonEl.disabled = true;  // To prevent multiple clicks.\n",
              "          quickchartButtonEl.classList.add('colab-df-spinner');\n",
              "          try {\n",
              "            const charts = await google.colab.kernel.invokeFunction(\n",
              "                'suggestCharts', [key], {});\n",
              "          } catch (error) {\n",
              "            console.error('Error during call to suggestCharts:', error);\n",
              "          }\n",
              "          quickchartButtonEl.classList.remove('colab-df-spinner');\n",
              "          quickchartButtonEl.classList.add('colab-df-quickchart-complete');\n",
              "        }\n",
              "        (() => {\n",
              "          let quickchartButtonEl =\n",
              "            document.querySelector('#df-4dc4db0e-e837-42c5-91a8-4a6a5664d72d button');\n",
              "          quickchartButtonEl.style.display =\n",
              "            google.colab.kernel.accessAllowed ? 'block' : 'none';\n",
              "        })();\n",
              "      </script>\n",
              "    </div>\n",
              "\n",
              "  <div id=\"id_e33bd01c-f69d-42f9-995a-22321bf031ee\">\n",
              "    <style>\n",
              "      .colab-df-generate {\n",
              "        background-color: #E8F0FE;\n",
              "        border: none;\n",
              "        border-radius: 50%;\n",
              "        cursor: pointer;\n",
              "        display: none;\n",
              "        fill: #1967D2;\n",
              "        height: 32px;\n",
              "        padding: 0 0 0 0;\n",
              "        width: 32px;\n",
              "      }\n",
              "\n",
              "      .colab-df-generate:hover {\n",
              "        background-color: #E2EBFA;\n",
              "        box-shadow: 0px 1px 2px rgba(60, 64, 67, 0.3), 0px 1px 3px 1px rgba(60, 64, 67, 0.15);\n",
              "        fill: #174EA6;\n",
              "      }\n",
              "\n",
              "      [theme=dark] .colab-df-generate {\n",
              "        background-color: #3B4455;\n",
              "        fill: #D2E3FC;\n",
              "      }\n",
              "\n",
              "      [theme=dark] .colab-df-generate:hover {\n",
              "        background-color: #434B5C;\n",
              "        box-shadow: 0px 1px 3px 1px rgba(0, 0, 0, 0.15);\n",
              "        filter: drop-shadow(0px 1px 2px rgba(0, 0, 0, 0.3));\n",
              "        fill: #FFFFFF;\n",
              "      }\n",
              "    </style>\n",
              "    <button class=\"colab-df-generate\" onclick=\"generateWithVariable('unique_airports')\"\n",
              "            title=\"Generate code using this dataframe.\"\n",
              "            style=\"display:none;\">\n",
              "\n",
              "  <svg xmlns=\"http://www.w3.org/2000/svg\" height=\"24px\"viewBox=\"0 0 24 24\"\n",
              "       width=\"24px\">\n",
              "    <path d=\"M7,19H8.4L18.45,9,17,7.55,7,17.6ZM5,21V16.75L18.45,3.32a2,2,0,0,1,2.83,0l1.4,1.43a1.91,1.91,0,0,1,.58,1.4,1.91,1.91,0,0,1-.58,1.4L9.25,21ZM18.45,9,17,7.55Zm-12,3A5.31,5.31,0,0,0,4.9,8.1,5.31,5.31,0,0,0,1,6.5,5.31,5.31,0,0,0,4.9,4.9,5.31,5.31,0,0,0,6.5,1,5.31,5.31,0,0,0,8.1,4.9,5.31,5.31,0,0,0,12,6.5,5.46,5.46,0,0,0,6.5,12Z\"/>\n",
              "  </svg>\n",
              "    </button>\n",
              "    <script>\n",
              "      (() => {\n",
              "      const buttonEl =\n",
              "        document.querySelector('#id_e33bd01c-f69d-42f9-995a-22321bf031ee button.colab-df-generate');\n",
              "      buttonEl.style.display =\n",
              "        google.colab.kernel.accessAllowed ? 'block' : 'none';\n",
              "\n",
              "      buttonEl.onclick = () => {\n",
              "        google.colab.notebook.generateWithVariable('unique_airports');\n",
              "      }\n",
              "      })();\n",
              "    </script>\n",
              "  </div>\n",
              "\n",
              "    </div>\n",
              "  </div>\n"
            ],
            "application/vnd.google.colaboratory.intrinsic+json": {
              "type": "dataframe",
              "variable_name": "unique_airports",
              "summary": "{\n  \"name\": \"unique_airports\",\n  \"rows\": 419,\n  \"fields\": [\n    {\n      \"column\": \"airport\",\n      \"properties\": {\n        \"dtype\": \"string\",\n        \"num_unique_values\": 395,\n        \"samples\": [\n          \"ROA\",\n          \"ATY\",\n          \"CLL\"\n        ],\n        \"semantic_type\": \"\",\n        \"description\": \"\"\n      }\n    },\n    {\n      \"column\": \"airport_name\",\n      \"properties\": {\n        \"dtype\": \"string\",\n        \"num_unique_values\": 419,\n        \"samples\": [\n          \"Chicago, IL: Chicago Midway International\",\n          \"Casper, WY: Casper/Natrona County International\",\n          \"Dillingham, AK: Dillingham Airport\"\n        ],\n        \"semantic_type\": \"\",\n        \"description\": \"\"\n      }\n    }\n  ]\n}"
            }
          },
          "metadata": {},
          "execution_count": 12
        }
      ]
    },
    {
      "cell_type": "code",
      "source": [
        "# Display the airport dictionary size, keys and values\n",
        "len(airport_dict)#, airport_dict"
      ],
      "metadata": {
        "colab": {
          "base_uri": "https://localhost:8080/"
        },
        "id": "EKRVOzxPq0-z",
        "executionInfo": {
          "status": "ok",
          "timestamp": 1760558943768,
          "user_tz": 360,
          "elapsed": 19,
          "user": {
            "displayName": "Lane Hale",
            "userId": "11862511056076326919"
          }
        },
        "outputId": "818622be-f4ec-4f6e-8b49-126bddbce7ee"
      },
      "execution_count": 13,
      "outputs": [
        {
          "output_type": "execute_result",
          "data": {
            "text/plain": [
              "395"
            ]
          },
          "metadata": {},
          "execution_count": 13
        }
      ]
    },
    {
      "cell_type": "code",
      "source": [
        "airport_name = list(airport_dict.values())\n",
        "airport_name[0]"
      ],
      "metadata": {
        "colab": {
          "base_uri": "https://localhost:8080/",
          "height": 35
        },
        "id": "B_qxJaOmuBGQ",
        "executionInfo": {
          "status": "ok",
          "timestamp": 1760558963213,
          "user_tz": 360,
          "elapsed": 8,
          "user": {
            "displayName": "Lane Hale",
            "userId": "11862511056076326919"
          }
        },
        "outputId": "05c44973-2f12-445c-a45a-cadbe52c415c"
      },
      "execution_count": 14,
      "outputs": [
        {
          "output_type": "execute_result",
          "data": {
            "text/plain": [
              "'Allentown/Bethlehem/Easton, PA: Lehigh Valley International'"
            ],
            "application/vnd.google.colaboratory.intrinsic+json": {
              "type": "string"
            }
          },
          "metadata": {},
          "execution_count": 14
        }
      ]
    },
    {
      "cell_type": "code",
      "source": [
        "import re\n",
        "name_list = re.split(r\"[/,]\", airport_name[0])\n",
        "name_list"
      ],
      "metadata": {
        "colab": {
          "base_uri": "https://localhost:8080/"
        },
        "id": "weoNSrqXucXX",
        "executionInfo": {
          "status": "ok",
          "timestamp": 1760558964540,
          "user_tz": 360,
          "elapsed": 26,
          "user": {
            "displayName": "Lane Hale",
            "userId": "11862511056076326919"
          }
        },
        "outputId": "029e0c56-557e-4ed8-8896-4b3d9221042b"
      },
      "execution_count": 15,
      "outputs": [
        {
          "output_type": "execute_result",
          "data": {
            "text/plain": [
              "['Allentown', 'Bethlehem', 'Easton', ' PA: Lehigh Valley International']"
            ]
          },
          "metadata": {},
          "execution_count": 15
        }
      ]
    },
    {
      "cell_type": "code",
      "source": [
        "name_list[0]"
      ],
      "metadata": {
        "colab": {
          "base_uri": "https://localhost:8080/",
          "height": 35
        },
        "id": "btMNdT1_w2Sz",
        "executionInfo": {
          "status": "ok",
          "timestamp": 1760558967948,
          "user_tz": 360,
          "elapsed": 10,
          "user": {
            "displayName": "Lane Hale",
            "userId": "11862511056076326919"
          }
        },
        "outputId": "b0d36f49-aa66-47a9-875b-987a47d32a9a"
      },
      "execution_count": 16,
      "outputs": [
        {
          "output_type": "execute_result",
          "data": {
            "text/plain": [
              "'Allentown'"
            ],
            "application/vnd.google.colaboratory.intrinsic+json": {
              "type": "string"
            }
          },
          "metadata": {},
          "execution_count": 16
        }
      ]
    },
    {
      "cell_type": "code",
      "source": [
        "# Data for building random dates\n",
        "NUM_text = ['one','two','three','four','five','six','seven','eight','nine','ten']\n",
        "DDD_list = ['Mon','Tue','Wed','Thu','Fri','Sat','Sun']\n",
        "WEEKDAY_list = ['Monday','Tuesday','Wednesday','Thursday','Friday','Saturday','Sunday']\n",
        "MMM_list = ['Jan','Feb','Mar','Apr','May','Jun','Jul','Aug','Sep','Oct','Nov','Dec']\n",
        "MONTH_list = [\n",
        "    \"January\",\n",
        "    \"February\",\n",
        "    \"March\",\n",
        "    \"April\",\n",
        "    \"May\",\n",
        "    \"June\",\n",
        "    \"July\",\n",
        "    \"August\",\n",
        "    \"September\",\n",
        "    \"October\",\n",
        "    \"November\",\n",
        "    \"December\",\n",
        "]\n",
        "DDth_list = [\n",
        "    \"1st\",\n",
        "    \"2nd\",\n",
        "    \"3rd\",\n",
        "    \"4th\",\n",
        "    \"5th\",\n",
        "    \"6th\",\n",
        "    \"7th\",\n",
        "    \"8th\",\n",
        "    \"9th\",\n",
        "    \"10th\",\n",
        "    \"11th\",\n",
        "    \"12th\",\n",
        "    \"13th\",\n",
        "    \"14th\",\n",
        "    \"15th\",\n",
        "    \"16th\",\n",
        "    \"17th\",\n",
        "    \"18th\",\n",
        "    \"19th\",\n",
        "    \"20th\",\n",
        "    \"21st\",\n",
        "    \"22nd\",\n",
        "    \"23rd\",\n",
        "    \"24th\",\n",
        "    \"25th\",\n",
        "    \"26th\",\n",
        "    \"27th\",\n",
        "    \"28th\",\n",
        "]"
      ],
      "metadata": {
        "id": "6PckCEfNa2LQ",
        "executionInfo": {
          "status": "ok",
          "timestamp": 1760558971869,
          "user_tz": 360,
          "elapsed": 6,
          "user": {
            "displayName": "Lane Hale",
            "userId": "11862511056076326919"
          }
        }
      },
      "execution_count": 17,
      "outputs": []
    },
    {
      "cell_type": "markdown",
      "source": [
        "### Build Altered CSV file"
      ],
      "metadata": {
        "id": "ehAhShhMb9sQ"
      }
    },
    {
      "cell_type": "code",
      "source": [
        "import csv\n",
        "import random\n",
        "import string\n",
        "from datetime import datetime\n",
        "\n",
        "\n",
        "def build_altered_csv(template_file, intent):\n",
        "    \"\"\"\n",
        "    Add random data to the template csv file variables, shuffle\n",
        "    the altered file and download it.\n",
        "    Args:\n",
        "        template_file (str): The name of the template csv file.\n",
        "        intent (str): The intent of the csv file.\n",
        "    \"\"\"\n",
        "    airport = list(airport_dict.keys())\n",
        "    airport_name = list(airport_dict.values())\n",
        "\n",
        "    # Get current date and time\n",
        "    current_datetime = datetime.now()\n",
        "    current_year = current_datetime.year\n",
        "    current_month = current_datetime.month\n",
        "    current_day = current_datetime.day\n",
        "\n",
        "    # Create a list to save altered csv data\n",
        "    altered_data = []\n",
        "\n",
        "    # Open the CSV file in read mode ('r')\n",
        "    with open(template_file, \"r\", newline=\"\") as csvfile:\n",
        "\n",
        "        reader = csv.reader(csvfile)  # Create a CSV reader object\n",
        "        next(reader)  # Skip header\n",
        "        i = -1  # index for carrier_codes\n",
        "        cnt = 0  # counter of rows for debugging\n",
        "\n",
        "        # Iterate through each row in the CSV file\n",
        "        for row in reader:\n",
        "\n",
        "            if i < len(carrier_codes) - 1:\n",
        "                i += 1\n",
        "            else:\n",
        "                i = 0\n",
        "\n",
        "            # Alter the query\n",
        "            query = row[0].split()\n",
        "\n",
        "            i1 = random.randint(0, len(airport_dict) - 1)\n",
        "            i2 = random.randint(0, len(airport_dict) - 1)\n",
        "\n",
        "            for _ in range(2):\n",
        "                if \"airptCd1\" in query:\n",
        "                    idx = query.index(\"airptCd1\")\n",
        "                    query[idx] = airport[i1]  # Get first airport code\n",
        "                elif \"airptNm1\" in query:\n",
        "                    idx = query.index(\"airptNm1\")\n",
        "                    name_list = re.split(r\"[/,]\", airport_name[i1])\n",
        "                    query[idx] = name_list[0]  # Get first airport name\n",
        "\n",
        "                if \"airptCd2\" in query:\n",
        "                    idx = query.index(\"airptCd2\")\n",
        "                    query[idx] = airport[i2]  # Get second airport code\n",
        "                elif \"airptNm2\" in query:\n",
        "                    idx = query.index(\"airptNm2\")\n",
        "                    name_list = re.split(r\"[/,]\", airport_name[i2])\n",
        "                    query[idx] = name_list[0]  # Get second airport name\n",
        "\n",
        "            if \"MM\" in query:\n",
        "                idx = query.index(\"MM\")\n",
        "                MM_idx = random.randint(1, 12)\n",
        "                query[idx] = str(MM_idx)  # Get numeric month\n",
        "            elif \"MMM\" in query:\n",
        "                idx = query.index(\"MMM\")\n",
        "                MM_idx = random.randint(1, 12)\n",
        "                query[idx] = MMM_list[MM_idx - 1]  # Get abbreviated month\n",
        "            elif \"MONTH\" in query:\n",
        "                idx = query.index(\"MONTH\")\n",
        "                MM_idx = random.randint(1, 12)\n",
        "                query[idx] = MONTH_list[MM_idx - 1]  # Get abbreviated month\n",
        "\n",
        "            if \"DD\" in query:\n",
        "                idx = query.index(\"DD\")\n",
        "                high_DD = 31\n",
        "                if MM_idx == 2:\n",
        "                    high_DD = 28\n",
        "                elif MM_idx == 4 or MM_idx == 6 or MM_idx == 9 or MM_idx == 11:\n",
        "                    high_DD = 30\n",
        "                DD_idx = random.randint(1, high_DD)\n",
        "                query[idx] = str(DD_idx)  # Get numeric date\n",
        "            elif \"DDth\" in query:\n",
        "                idx = query.index(\"DDth\")\n",
        "                DD_idx = random.randint(1, 28)\n",
        "                query[idx] = DDth_list[DD_idx - 1]  # Get ordinal date\n",
        "            elif \"DDD\" in query:\n",
        "                idx = query.index(\"DDD\")\n",
        "                DDD_idx = random.randint(0, 6)\n",
        "                query[idx] = DDD_list[DDD_idx]  # Get abbreviated day\n",
        "            elif \"WEEKDAY\" in query:\n",
        "                idx = query.index(\"WEEKDAY\")\n",
        "                DDD_idx = random.randint(0, 6)\n",
        "                query[idx] = WEEKDAY_list[DDD_idx]  # Get abbreviated day\n",
        "\n",
        "            if \"YY\" in query or \"YYYY\" in query:\n",
        "                if (\n",
        "                    current_month == MM_idx and current_day >= DD_idx\n",
        "                ) or current_month > MM_idx:\n",
        "                    current_year += 1\n",
        "\n",
        "                if \"YY\" in query:\n",
        "                    idx = query.index(\"YY\")\n",
        "                    query[idx] = str(current_year)[\n",
        "                        -2:\n",
        "                    ]  # Get last two digits of current year\n",
        "                else:\n",
        "                    idx = query.index(\"YYYY\")\n",
        "                    query[idx] = str(current_year)  # Get current year\n",
        "\n",
        "                current_year = current_datetime.year  # reset for next loop\n",
        "\n",
        "            if \"NUM\" in query:\n",
        "                idx = query.index(\"NUM\")\n",
        "                NUM_idx = random.randint(0, 9)\n",
        "                query[idx] = NUM_text[NUM_idx]  # Get number\n",
        "\n",
        "            if \"CC\" in query:\n",
        "                idx = query.index(\"CC\")\n",
        "                query[idx] = carrier_codes[i]\n",
        "\n",
        "            if \"cc\" in query:\n",
        "                idx = query.index(\"cc\")\n",
        "                query[idx] = carrier_codes[i].lower()\n",
        "\n",
        "            if \"Capcxr1\" in query:\n",
        "                idx = query.index(\"Capcxr1\")\n",
        "                query[idx] = airline_dict[carrier_codes[i]][\n",
        "                    0\n",
        "                ]  # Get first name of carrier capitalized\n",
        "\n",
        "            if \"Capcxr2\" in query:\n",
        "                idx = query.index(\"Capcxr2\")\n",
        "                query[idx] = airline_dict[carrier_codes[i]][\n",
        "                    1\n",
        "                ]  # Get second name of carrier capitalized\n",
        "\n",
        "            if \"lowcxr1\" in query:\n",
        "                idx = query.index(\"lowcxr1\")\n",
        "                query[idx] = airline_dict[carrier_codes[i]][\n",
        "                    0\n",
        "                ].lower()  # Get first name of carrier lowercase\n",
        "\n",
        "            if \"lowcxr2\" in query:\n",
        "                idx = query.index(\"lowcxr2\")\n",
        "                query[idx] = airline_dict[carrier_codes[i]][\n",
        "                    1\n",
        "                ].lower()  # Get second name of carrier lowercase\n",
        "\n",
        "            if \"9999_\" in query:\n",
        "                idx = query.index(\"9999_\")\n",
        "                query[idx] = str(random.randint(1, 9999))  # Get a random flight number\n",
        "\n",
        "            if \"9999_?\" in query:\n",
        "                idx = query.index(\"9999_?\")\n",
        "                query[idx] = (\n",
        "                    str(random.randint(1, 9999)) + \"?\"\n",
        "                )  # Get a random flight number\n",
        "\n",
        "            if \"ABC123\" in query:\n",
        "                idx = query.index(\"ABC123\")\n",
        "                random_indices = [random.randint(1, 5), random.randint(1, 5)]\n",
        "                if random_indices[0] == random_indices[1]:\n",
        "                    if random_indices[0] == 5:\n",
        "                        random_indices[1] -= 1\n",
        "                    else:\n",
        "                        random_indices[1] += 1\n",
        "                pnr = \"\"\n",
        "                for i in range(6):\n",
        "                    if i == random_indices[0] or i == random_indices[1]:\n",
        "                        pnr += str(random.randint(1, 9))\n",
        "                    else:\n",
        "                        pnr += random.choice(string.ascii_lowercase)\n",
        "                query[idx] = pnr  # Get a random PNR (Passenger Name Record locator)\n",
        "\n",
        "            for _ in range(3):\n",
        "                if \"+-\" in query:\n",
        "                    idx = query.index(\"+-\")\n",
        "                    query[idx - 1] = query[idx - 1] + \"-\" + query[idx + 1]\n",
        "                    del query[idx : idx + 2]\n",
        "\n",
        "                if \"+/\" in query:\n",
        "                    idx = query.index(\"+/\")\n",
        "                    query[idx - 1] = query[idx - 1] + \"/\" + query[idx + 1]\n",
        "                    del query[idx : idx + 2]\n",
        "\n",
        "                if \"'s\" in query:\n",
        "                    idx = query.index(\"'s\")\n",
        "                    query[idx - 1] = query[idx - 1] + \"'s\"\n",
        "                    del query[idx]\n",
        "\n",
        "                if \",\" in query:\n",
        "                    idx = query.index(\",\")\n",
        "                    query[idx - 1] = query[idx - 1] + \",\"\n",
        "                    del query[idx]\n",
        "\n",
        "                if \".\" in query:\n",
        "                    idx = query.index(\".\")\n",
        "                    query[idx - 1] = query[idx - 1] + \".\"\n",
        "                    del query[idx]\n",
        "\n",
        "                if \"?\" in query:\n",
        "                    idx = query.index(\"?\")\n",
        "                    query[idx - 1] = query[idx - 1] + \"?\"\n",
        "                    del query[idx]\n",
        "\n",
        "            for _ in range(3):\n",
        "                if \"+\" in query:\n",
        "                    idx = query.index(\"+\")\n",
        "                    query[idx - 1] = query[idx - 1] + query[idx + 1]\n",
        "                    del query[idx : idx + 2]\n",
        "\n",
        "            joined_query = \" \".join(query)\n",
        "            altered_data.append([joined_query, intent])\n",
        "\n",
        "            cnt += 1\n",
        "\n",
        "        # End of for loop\n",
        "\n",
        "        # Shuffle the list a few times\n",
        "        random.shuffle(altered_data)\n",
        "        random.shuffle(altered_data)\n",
        "        random.shuffle(altered_data)\n",
        "\n",
        "        # Add the header labels\n",
        "        altered_data.insert(0, [\"query\", \"intent\"])\n",
        "        len(altered_data)\n",
        "\n",
        "        # Create a new csv file\n",
        "        altered_file = \"query_intent_\" + intent + \"_altered.csv\"\n",
        "\n",
        "        # Write the altered data to the new csv file\n",
        "        with open(altered_file, \"w\", newline=\"\") as csvfile:\n",
        "            writer = csv.writer(csvfile)\n",
        "            writer.writerows(altered_data)\n",
        "\n",
        "        # Save the file locally to my machine\n",
        "        from google.colab import files\n",
        "\n",
        "        files.download(altered_file)"
      ],
      "metadata": {
        "id": "lMB-EcD4ZIy6",
        "executionInfo": {
          "status": "ok",
          "timestamp": 1760561495548,
          "user_tz": 360,
          "elapsed": 12,
          "user": {
            "displayName": "Lane Hale",
            "userId": "11862511056076326919"
          }
        }
      },
      "execution_count": 44,
      "outputs": []
    },
    {
      "cell_type": "markdown",
      "source": [
        "### Build Booking file"
      ],
      "metadata": {
        "id": "uGiJdA_G1uBo"
      }
    },
    {
      "cell_type": "code",
      "source": [
        "template_file = 'query_intent_booking_template_3.csv'\n",
        "intent = 'booking'\n",
        "build_altered_csv(template_file, intent)"
      ],
      "metadata": {
        "colab": {
          "base_uri": "https://localhost:8080/",
          "height": 17
        },
        "id": "zvTYbXo5cRLO",
        "executionInfo": {
          "status": "ok",
          "timestamp": 1760561501455,
          "user_tz": 360,
          "elapsed": 45,
          "user": {
            "displayName": "Lane Hale",
            "userId": "11862511056076326919"
          }
        },
        "outputId": "e82eac33-0e81-4d0f-d5ba-49bf4e1a857b"
      },
      "execution_count": 45,
      "outputs": [
        {
          "output_type": "display_data",
          "data": {
            "text/plain": [
              "<IPython.core.display.Javascript object>"
            ],
            "application/javascript": [
              "\n",
              "    async function download(id, filename, size) {\n",
              "      if (!google.colab.kernel.accessAllowed) {\n",
              "        return;\n",
              "      }\n",
              "      const div = document.createElement('div');\n",
              "      const label = document.createElement('label');\n",
              "      label.textContent = `Downloading \"${filename}\": `;\n",
              "      div.appendChild(label);\n",
              "      const progress = document.createElement('progress');\n",
              "      progress.max = size;\n",
              "      div.appendChild(progress);\n",
              "      document.body.appendChild(div);\n",
              "\n",
              "      const buffers = [];\n",
              "      let downloaded = 0;\n",
              "\n",
              "      const channel = await google.colab.kernel.comms.open(id);\n",
              "      // Send a message to notify the kernel that we're ready.\n",
              "      channel.send({})\n",
              "\n",
              "      for await (const message of channel.messages) {\n",
              "        // Send a message to notify the kernel that we're ready.\n",
              "        channel.send({})\n",
              "        if (message.buffers) {\n",
              "          for (const buffer of message.buffers) {\n",
              "            buffers.push(buffer);\n",
              "            downloaded += buffer.byteLength;\n",
              "            progress.value = downloaded;\n",
              "          }\n",
              "        }\n",
              "      }\n",
              "      const blob = new Blob(buffers, {type: 'application/binary'});\n",
              "      const a = document.createElement('a');\n",
              "      a.href = window.URL.createObjectURL(blob);\n",
              "      a.download = filename;\n",
              "      div.appendChild(a);\n",
              "      a.click();\n",
              "      div.remove();\n",
              "    }\n",
              "  "
            ]
          },
          "metadata": {}
        },
        {
          "output_type": "display_data",
          "data": {
            "text/plain": [
              "<IPython.core.display.Javascript object>"
            ],
            "application/javascript": [
              "download(\"download_16e2be33-4959-4823-a268-602aadb08e8e\", \"query_intent_booking_altered.csv\", 26886)"
            ]
          },
          "metadata": {}
        }
      ]
    },
    {
      "cell_type": "markdown",
      "source": [
        "### Build Status file"
      ],
      "metadata": {
        "id": "RGw3dgbiIdlr"
      }
    },
    {
      "cell_type": "code",
      "source": [
        "template_file = 'query_intent_status_template_3.csv'\n",
        "intent = 'status'\n",
        "build_altered_csv(template_file, intent)"
      ],
      "metadata": {
        "colab": {
          "base_uri": "https://localhost:8080/",
          "height": 17
        },
        "id": "gWHQvN9Ycwm9",
        "executionInfo": {
          "status": "ok",
          "timestamp": 1760561503374,
          "user_tz": 360,
          "elapsed": 21,
          "user": {
            "displayName": "Lane Hale",
            "userId": "11862511056076326919"
          }
        },
        "outputId": "f3431b5d-4e04-4bae-d010-03d24867abf1"
      },
      "execution_count": 46,
      "outputs": [
        {
          "output_type": "display_data",
          "data": {
            "text/plain": [
              "<IPython.core.display.Javascript object>"
            ],
            "application/javascript": [
              "\n",
              "    async function download(id, filename, size) {\n",
              "      if (!google.colab.kernel.accessAllowed) {\n",
              "        return;\n",
              "      }\n",
              "      const div = document.createElement('div');\n",
              "      const label = document.createElement('label');\n",
              "      label.textContent = `Downloading \"${filename}\": `;\n",
              "      div.appendChild(label);\n",
              "      const progress = document.createElement('progress');\n",
              "      progress.max = size;\n",
              "      div.appendChild(progress);\n",
              "      document.body.appendChild(div);\n",
              "\n",
              "      const buffers = [];\n",
              "      let downloaded = 0;\n",
              "\n",
              "      const channel = await google.colab.kernel.comms.open(id);\n",
              "      // Send a message to notify the kernel that we're ready.\n",
              "      channel.send({})\n",
              "\n",
              "      for await (const message of channel.messages) {\n",
              "        // Send a message to notify the kernel that we're ready.\n",
              "        channel.send({})\n",
              "        if (message.buffers) {\n",
              "          for (const buffer of message.buffers) {\n",
              "            buffers.push(buffer);\n",
              "            downloaded += buffer.byteLength;\n",
              "            progress.value = downloaded;\n",
              "          }\n",
              "        }\n",
              "      }\n",
              "      const blob = new Blob(buffers, {type: 'application/binary'});\n",
              "      const a = document.createElement('a');\n",
              "      a.href = window.URL.createObjectURL(blob);\n",
              "      a.download = filename;\n",
              "      div.appendChild(a);\n",
              "      a.click();\n",
              "      div.remove();\n",
              "    }\n",
              "  "
            ]
          },
          "metadata": {}
        },
        {
          "output_type": "display_data",
          "data": {
            "text/plain": [
              "<IPython.core.display.Javascript object>"
            ],
            "application/javascript": [
              "download(\"download_bbc31373-a1ab-4606-8629-5c22eb501d11\", \"query_intent_status_altered.csv\", 19800)"
            ]
          },
          "metadata": {}
        }
      ]
    },
    {
      "cell_type": "markdown",
      "source": [
        "### Build General file"
      ],
      "metadata": {
        "id": "eMaRh6S4c3nf"
      }
    },
    {
      "cell_type": "code",
      "source": [
        "template_file = 'query_intent_general_template_3.csv'\n",
        "intent = 'general'\n",
        "build_altered_csv(template_file, intent)"
      ],
      "metadata": {
        "colab": {
          "base_uri": "https://localhost:8080/",
          "height": 17
        },
        "id": "HP61sODHc0-l",
        "executionInfo": {
          "status": "ok",
          "timestamp": 1760561505574,
          "user_tz": 360,
          "elapsed": 44,
          "user": {
            "displayName": "Lane Hale",
            "userId": "11862511056076326919"
          }
        },
        "outputId": "df979126-26e6-45d0-e7f4-047ea115ac2b"
      },
      "execution_count": 47,
      "outputs": [
        {
          "output_type": "display_data",
          "data": {
            "text/plain": [
              "<IPython.core.display.Javascript object>"
            ],
            "application/javascript": [
              "\n",
              "    async function download(id, filename, size) {\n",
              "      if (!google.colab.kernel.accessAllowed) {\n",
              "        return;\n",
              "      }\n",
              "      const div = document.createElement('div');\n",
              "      const label = document.createElement('label');\n",
              "      label.textContent = `Downloading \"${filename}\": `;\n",
              "      div.appendChild(label);\n",
              "      const progress = document.createElement('progress');\n",
              "      progress.max = size;\n",
              "      div.appendChild(progress);\n",
              "      document.body.appendChild(div);\n",
              "\n",
              "      const buffers = [];\n",
              "      let downloaded = 0;\n",
              "\n",
              "      const channel = await google.colab.kernel.comms.open(id);\n",
              "      // Send a message to notify the kernel that we're ready.\n",
              "      channel.send({})\n",
              "\n",
              "      for await (const message of channel.messages) {\n",
              "        // Send a message to notify the kernel that we're ready.\n",
              "        channel.send({})\n",
              "        if (message.buffers) {\n",
              "          for (const buffer of message.buffers) {\n",
              "            buffers.push(buffer);\n",
              "            downloaded += buffer.byteLength;\n",
              "            progress.value = downloaded;\n",
              "          }\n",
              "        }\n",
              "      }\n",
              "      const blob = new Blob(buffers, {type: 'application/binary'});\n",
              "      const a = document.createElement('a');\n",
              "      a.href = window.URL.createObjectURL(blob);\n",
              "      a.download = filename;\n",
              "      div.appendChild(a);\n",
              "      a.click();\n",
              "      div.remove();\n",
              "    }\n",
              "  "
            ]
          },
          "metadata": {}
        },
        {
          "output_type": "display_data",
          "data": {
            "text/plain": [
              "<IPython.core.display.Javascript object>"
            ],
            "application/javascript": [
              "download(\"download_b5a8f624-88b9-4d78-b743-1297ab00e6f0\", \"query_intent_general_altered.csv\", 18948)"
            ]
          },
          "metadata": {}
        }
      ]
    }
  ]
}
